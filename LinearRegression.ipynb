{
 "cells": [
  {
   "cell_type": "markdown",
   "id": "c2da1b8f0976f5f2",
   "metadata": {
    "collapsed": false
   },
   "source": [
    "# Linear Regression"
   ]
  },
  {
   "cell_type": "markdown",
   "id": "3d9b8f97a4d79491",
   "metadata": {
    "collapsed": false
   },
   "source": [
    "## Install Dependencies"
   ]
  },
  {
   "cell_type": "code",
   "execution_count": 2,
   "id": "db82f7ca88acf9fb",
   "metadata": {
    "ExecuteTime": {
     "end_time": "2024-04-07T18:53:29.377656600Z",
     "start_time": "2024-04-07T18:53:29.371126Z"
    },
    "collapsed": false
   },
   "outputs": [],
   "source": [
    "import pandas as pd\n",
    "import numpy as np\n",
    "import matplotlib.pyplot as plt"
   ]
  },
  {
   "cell_type": "markdown",
   "id": "636b0484d865ccaa",
   "metadata": {
    "collapsed": false
   },
   "source": [
    "## Read the data into a dataframe"
   ]
  },
  {
   "cell_type": "code",
   "execution_count": 3,
   "id": "180ac5d5277a74ba",
   "metadata": {
    "ExecuteTime": {
     "end_time": "2024-04-07T18:53:12.276672500Z",
     "start_time": "2024-04-07T18:53:12.236213800Z"
    },
    "collapsed": false
   },
   "outputs": [
    {
     "data": {
      "text/html": [
       "<div>\n",
       "<style scoped>\n",
       "    .dataframe tbody tr th:only-of-type {\n",
       "        vertical-align: middle;\n",
       "    }\n",
       "\n",
       "    .dataframe tbody tr th {\n",
       "        vertical-align: top;\n",
       "    }\n",
       "\n",
       "    .dataframe thead th {\n",
       "        text-align: right;\n",
       "    }\n",
       "</style>\n",
       "<table border=\"1\" class=\"dataframe\">\n",
       "  <thead>\n",
       "    <tr style=\"text-align: right;\">\n",
       "      <th></th>\n",
       "      <th>YearsExperience</th>\n",
       "      <th>Salary</th>\n",
       "    </tr>\n",
       "  </thead>\n",
       "  <tbody>\n",
       "    <tr>\n",
       "      <th>0</th>\n",
       "      <td>1.1</td>\n",
       "      <td>39343.0</td>\n",
       "    </tr>\n",
       "    <tr>\n",
       "      <th>1</th>\n",
       "      <td>1.3</td>\n",
       "      <td>46205.0</td>\n",
       "    </tr>\n",
       "    <tr>\n",
       "      <th>2</th>\n",
       "      <td>1.5</td>\n",
       "      <td>37731.0</td>\n",
       "    </tr>\n",
       "    <tr>\n",
       "      <th>3</th>\n",
       "      <td>2.0</td>\n",
       "      <td>43525.0</td>\n",
       "    </tr>\n",
       "    <tr>\n",
       "      <th>4</th>\n",
       "      <td>2.2</td>\n",
       "      <td>39891.0</td>\n",
       "    </tr>\n",
       "    <tr>\n",
       "      <th>5</th>\n",
       "      <td>2.9</td>\n",
       "      <td>56642.0</td>\n",
       "    </tr>\n",
       "    <tr>\n",
       "      <th>6</th>\n",
       "      <td>3.0</td>\n",
       "      <td>60150.0</td>\n",
       "    </tr>\n",
       "    <tr>\n",
       "      <th>7</th>\n",
       "      <td>3.2</td>\n",
       "      <td>54445.0</td>\n",
       "    </tr>\n",
       "    <tr>\n",
       "      <th>8</th>\n",
       "      <td>3.2</td>\n",
       "      <td>64445.0</td>\n",
       "    </tr>\n",
       "    <tr>\n",
       "      <th>9</th>\n",
       "      <td>3.7</td>\n",
       "      <td>57189.0</td>\n",
       "    </tr>\n",
       "    <tr>\n",
       "      <th>10</th>\n",
       "      <td>3.9</td>\n",
       "      <td>63218.0</td>\n",
       "    </tr>\n",
       "    <tr>\n",
       "      <th>11</th>\n",
       "      <td>4.0</td>\n",
       "      <td>55794.0</td>\n",
       "    </tr>\n",
       "    <tr>\n",
       "      <th>12</th>\n",
       "      <td>4.0</td>\n",
       "      <td>56957.0</td>\n",
       "    </tr>\n",
       "    <tr>\n",
       "      <th>13</th>\n",
       "      <td>4.1</td>\n",
       "      <td>57081.0</td>\n",
       "    </tr>\n",
       "    <tr>\n",
       "      <th>14</th>\n",
       "      <td>4.5</td>\n",
       "      <td>61111.0</td>\n",
       "    </tr>\n",
       "    <tr>\n",
       "      <th>15</th>\n",
       "      <td>4.9</td>\n",
       "      <td>67938.0</td>\n",
       "    </tr>\n",
       "    <tr>\n",
       "      <th>16</th>\n",
       "      <td>5.1</td>\n",
       "      <td>66029.0</td>\n",
       "    </tr>\n",
       "    <tr>\n",
       "      <th>17</th>\n",
       "      <td>5.3</td>\n",
       "      <td>83088.0</td>\n",
       "    </tr>\n",
       "    <tr>\n",
       "      <th>18</th>\n",
       "      <td>5.9</td>\n",
       "      <td>81363.0</td>\n",
       "    </tr>\n",
       "    <tr>\n",
       "      <th>19</th>\n",
       "      <td>6.0</td>\n",
       "      <td>93940.0</td>\n",
       "    </tr>\n",
       "    <tr>\n",
       "      <th>20</th>\n",
       "      <td>6.8</td>\n",
       "      <td>91738.0</td>\n",
       "    </tr>\n",
       "    <tr>\n",
       "      <th>21</th>\n",
       "      <td>7.1</td>\n",
       "      <td>98273.0</td>\n",
       "    </tr>\n",
       "    <tr>\n",
       "      <th>22</th>\n",
       "      <td>7.9</td>\n",
       "      <td>101302.0</td>\n",
       "    </tr>\n",
       "    <tr>\n",
       "      <th>23</th>\n",
       "      <td>8.2</td>\n",
       "      <td>113812.0</td>\n",
       "    </tr>\n",
       "    <tr>\n",
       "      <th>24</th>\n",
       "      <td>8.7</td>\n",
       "      <td>109431.0</td>\n",
       "    </tr>\n",
       "    <tr>\n",
       "      <th>25</th>\n",
       "      <td>9.0</td>\n",
       "      <td>105582.0</td>\n",
       "    </tr>\n",
       "    <tr>\n",
       "      <th>26</th>\n",
       "      <td>9.5</td>\n",
       "      <td>116969.0</td>\n",
       "    </tr>\n",
       "    <tr>\n",
       "      <th>27</th>\n",
       "      <td>9.6</td>\n",
       "      <td>112635.0</td>\n",
       "    </tr>\n",
       "    <tr>\n",
       "      <th>28</th>\n",
       "      <td>10.3</td>\n",
       "      <td>122391.0</td>\n",
       "    </tr>\n",
       "    <tr>\n",
       "      <th>29</th>\n",
       "      <td>10.5</td>\n",
       "      <td>121872.0</td>\n",
       "    </tr>\n",
       "  </tbody>\n",
       "</table>\n",
       "</div>"
      ],
      "text/plain": [
       "    YearsExperience    Salary\n",
       "0               1.1   39343.0\n",
       "1               1.3   46205.0\n",
       "2               1.5   37731.0\n",
       "3               2.0   43525.0\n",
       "4               2.2   39891.0\n",
       "5               2.9   56642.0\n",
       "6               3.0   60150.0\n",
       "7               3.2   54445.0\n",
       "8               3.2   64445.0\n",
       "9               3.7   57189.0\n",
       "10              3.9   63218.0\n",
       "11              4.0   55794.0\n",
       "12              4.0   56957.0\n",
       "13              4.1   57081.0\n",
       "14              4.5   61111.0\n",
       "15              4.9   67938.0\n",
       "16              5.1   66029.0\n",
       "17              5.3   83088.0\n",
       "18              5.9   81363.0\n",
       "19              6.0   93940.0\n",
       "20              6.8   91738.0\n",
       "21              7.1   98273.0\n",
       "22              7.9  101302.0\n",
       "23              8.2  113812.0\n",
       "24              8.7  109431.0\n",
       "25              9.0  105582.0\n",
       "26              9.5  116969.0\n",
       "27              9.6  112635.0\n",
       "28             10.3  122391.0\n",
       "29             10.5  121872.0"
      ]
     },
     "execution_count": 3,
     "metadata": {},
     "output_type": "execute_result"
    }
   ],
   "source": [
    "df = pd.read_csv(\"Salary_Data.csv\")\n",
    "df"
   ]
  },
  {
   "cell_type": "markdown",
   "id": "b8ca760c685204f9",
   "metadata": {
    "collapsed": false
   },
   "source": [
    "## Graph the data points"
   ]
  },
  {
   "cell_type": "code",
   "execution_count": 4,
   "id": "e4facf060645902e",
   "metadata": {
    "ExecuteTime": {
     "end_time": "2024-04-07T19:01:19.340103900Z",
     "start_time": "2024-04-07T19:01:19.216076600Z"
    },
    "collapsed": false
   },
   "outputs": [
    {
     "data": {
      "text/plain": [
       "Text(0.5, 0, 'Year Experience')"
      ]
     },
     "execution_count": 4,
     "metadata": {},
     "output_type": "execute_result"
    },
    {
     "data": {
      "image/png": "[encoded data removed]",
      "text/plain": [
       "<Figure size 640x480 with 1 Axes>"
      ]
     },
     "metadata": {},
     "output_type": "display_data"
    }
   ],
   "source": [
    "plt.plot(df['YearsExperience'], df['Salary'], 'o')\n",
    "plt.ylabel(\"Salary (in Dollars)\")\n",
    "plt.xlabel(\"Year Experience\")\n",
    "plt.show"
   ]
  },
  {
   "cell_type": "markdown",
   "id": "92383f37437ac92f",
   "metadata": {
    "collapsed": false
   },
   "source": [
    "## Train a linear regression model"
   ]
  },
  {
   "cell_type": "markdown",
   "id": "472fcd22eb4f1ad1",
   "metadata": {
    "collapsed": false
   },
   "source": [
    "## Convert the dataframe to a numpy array"
   ]
  },
  {
   "cell_type": "code",
   "execution_count": 5,
   "id": "25df854e7154d4e",
   "metadata": {
    "ExecuteTime": {
     "end_time": "2024-04-07T19:04:51.634363100Z",
     "start_time": "2024-04-07T19:04:51.620803100Z"
    },
    "collapsed": false
   },
   "outputs": [],
   "source": [
    "df = df.to_numpy()"
   ]
  },
  {
   "cell_type": "markdown",
   "id": "8fa3bd0e3b70201a",
   "metadata": {
    "collapsed": false
   },
   "source": [
    "## Separate the data into training and test sets"
   ]
  },
  {
   "cell_type": "code",
   "execution_count": 6,
   "id": "7ec872656dff67af",
   "metadata": {
    "ExecuteTime": {
     "end_time": "2024-04-07T19:05:34.844353300Z",
     "start_time": "2024-04-07T19:05:34.832049400Z"
    },
    "collapsed": false
   },
   "outputs": [],
   "source": [
    "from sklearn.model_selection import train_test_split\n",
    "\n",
    "X = df[:, 0]\n",
    "y = df[:, 1]\n",
    "\n",
    "X_train, X_test, y_train, y_test = train_test_split(X, y, test_size=0.2)"
   ]
  },
  {
   "cell_type": "markdown",
   "id": "e2bd2268369148bf",
   "metadata": {
    "collapsed": false
   },
   "source": [
    "## Define function for the parameter derivatives"
   ]
  },
  {
   "cell_type": "code",
   "execution_count": 12,
   "id": "d09cb64f7d29a846",
   "metadata": {
    "ExecuteTime": {
     "end_time": "2024-04-07T19:23:30.626953600Z",
     "start_time": "2024-04-07T19:23:30.617439400Z"
    },
    "collapsed": false
   },
   "outputs": [],
   "source": [
    "def deriv(m, X, y, w, b):\n",
    "    dj_dw_total = 0\n",
    "    dj_db_total = 0\n",
    "    for i in range(m):\n",
    "        pred = w * X[i] + b\n",
    "        dj_dw_total += (pred - y[i]) * X[i]\n",
    "        dj_db_total += (pred - y[i])\n",
    "    dj_dw = dj_dw_total / m\n",
    "    dj_db = dj_db_total / m\n",
    "    \n",
    "    return dj_dw, dj_db"
   ]
  },
  {
   "cell_type": "markdown",
   "id": "604354cfa93e010d",
   "metadata": {
    "collapsed": false
   },
   "source": [
    "## Define a function for gradient descent"
   ]
  },
  {
   "cell_type": "code",
   "execution_count": 13,
   "id": "df553ac100a5c75b",
   "metadata": {
    "ExecuteTime": {
     "end_time": "2024-04-07T19:33:58.845024300Z",
     "start_time": "2024-04-07T19:33:58.791623700Z"
    },
    "collapsed": false
   },
   "outputs": [],
   "source": [
    "def gradient_descent(X, y, w, b, n_steps, alpha):\n",
    "    for _ in range(n_steps):\n",
    "        dj_dw, dj_db = deriv(X.size, X, y, w, b)\n",
    "        \n",
    "        tmp_w = w - alpha * dj_dw\n",
    "        tmp_b = b - alpha * dj_db\n",
    "        w = tmp_w\n",
    "        b = tmp_b\n",
    "        \n",
    "    return w, b"
   ]
  },
  {
   "cell_type": "markdown",
   "id": "41ee1cf8",
   "metadata": {},
   "source": [
    "## Print our optimized w and b parameters"
   ]
  },
  {
   "cell_type": "code",
   "execution_count": 16,
   "id": "7a20bf959e978e48",
   "metadata": {
    "ExecuteTime": {
     "end_time": "2024-04-07T19:34:09.277289600Z",
     "start_time": "2024-04-07T19:34:09.161521600Z"
    },
    "collapsed": false
   },
   "outputs": [
    {
     "data": {
      "text/plain": [
       "(12134.920142774985, 6976.185370836447)"
      ]
     },
     "execution_count": 16,
     "metadata": {},
     "output_type": "execute_result"
    }
   ],
   "source": [
    "w, b = gradient_descent(X_train, y_train, 0, 0, 100, .01)\n",
    "w, b"
   ]
  },
  {
   "cell_type": "markdown",
   "id": "d005818a",
   "metadata": {},
   "source": [
    "## Calculate the accuracy with the test set"
   ]
  },
  {
   "cell_type": "code",
   "execution_count": 43,
   "id": "1d904e5b",
   "metadata": {},
   "outputs": [
    {
     "name": "stdout",
     "output_type": "stream",
     "text": [
      "8467.962683641621\n"
     ]
    }
   ],
   "source": [
    "total_err = 0\n",
    "for i in range(X_test.size):\n",
    "    y_pred = w * X_test[i] + b\n",
    "    total_err += np.abs(y_pred - y_test[i])\n",
    "\n",
    "print(total_err / X_test.size)\n"
   ]
  },
  {
   "cell_type": "markdown",
   "id": "9eb1c306",
   "metadata": {},
   "source": [
    "## Plot the our training points with the line of best fit"
   ]
  },
  {
   "cell_type": "code",
   "execution_count": 31,
   "id": "662a101cc76fbc6f",
   "metadata": {
    "collapsed": false
   },
   "outputs": [
    {
     "data": {
      "text/plain": [
       "<function matplotlib.pyplot.show(close=None, block=None)>"
      ]
     },
     "execution_count": 31,
     "metadata": {},
     "output_type": "execute_result"
    },
    {
     "data": {
      "image/png": "[encoded data removed]",
      "text/plain": [
       "<Figure size 640x480 with 1 Axes>"
      ]
     },
     "metadata": {},
     "output_type": "display_data"
    }
   ],
   "source": [
    "x = np.linspace(1, 11, 100)\n",
    "yy = w * x + b\n",
    "\n",
    "plt.plot(x, yy)\n",
    "plt.plot(X_train, y_train, 'o')\n",
    "plt.xlabel('Years Experience')\n",
    "plt.ylabel('Salary in Dollars')\n",
    "plt.show"
   ]
  },
  {
   "cell_type": "markdown",
   "id": "199137de",
   "metadata": {},
   "source": [
    "## Plot the our training points with the line of best fit"
   ]
  },
  {
   "cell_type": "code",
   "execution_count": 34,
   "id": "46ba0dea",
   "metadata": {},
   "outputs": [
    {
     "data": {
      "image/png": "[encoded data removed]",
      "text/plain": [
       "<Figure size 640x480 with 1 Axes>"
      ]
     },
     "metadata": {},
     "output_type": "display_data"
    }
   ],
   "source": [
    "plt.plot(x, yy,)\n",
    "plt.plot(X_test, y_test, 'o')\n",
    "plt.show()"
   ]
  },
  {
   "cell_type": "code",
   "execution_count": 44,
   "id": "d714081d",
   "metadata": {},
   "outputs": [
    {
     "data": {
      "text/plain": [
       "152595.22708413625"
      ]
     },
     "execution_count": 44,
     "metadata": {},
     "output_type": "execute_result"
    }
   ],
   "source": []
  },
  {
   "cell_type": "code",
   "execution_count": null,
   "id": "e67238c5",
   "metadata": {},
   "outputs": [],
   "source": []
  }
 ],
 "metadata": {
  "kernelspec": {
   "display_name": "Python 3",
   "language": "python",
   "name": "python3"
  },
  "language_info": {
   "codemirror_mode": {
    "name": "ipython",
    "version": 3
   },
   "file_extension": ".py",
   "mimetype": "text/x-python",
   "name": "python",
   "nbconvert_exporter": "python",
   "pygments_lexer": "ipython3",
   "version": "3.11.9"
  }
 },
 "nbformat": 4,
 "nbformat_minor": 5
}
